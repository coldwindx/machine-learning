{
 "cells": [
  {
   "cell_type": "markdown",
   "metadata": {},
   "source": [
    "# 5.3. 延后初始化\n",
    "延后初始化使框架能够自动推断参数形状，使修改模型架构变得容易;\n",
    "pytorch需要指定输入维度，不适用于延后初始化"
   ]
  }
 ],
 "metadata": {
  "language_info": {
   "name": "python"
  },
  "orig_nbformat": 4
 },
 "nbformat": 4,
 "nbformat_minor": 2
}
