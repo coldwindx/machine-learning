{
 "cells": [
  {
   "cell_type": "markdown",
   "metadata": {},
   "source": [
    "# 5.1.1 自定义块\n",
    "自定义Module，实现：\n",
    "    1. 模型结构定义(__init__)\n",
    "    2. 前向传播(forward)\n",
    "    3. 后向传播(由系统创建)"
   ]
  },
  {
   "cell_type": "code",
   "execution_count": 13,
   "metadata": {},
   "outputs": [
    {
     "data": {
      "text/plain": [
       "tensor([[-0.1050,  0.2428, -0.0579, -0.1521,  0.0568,  0.1470,  0.2087, -0.5661,\n",
       "         -0.0411, -0.0514],\n",
       "        [-0.1558, -0.3168, -0.0300,  0.1123, -0.0206,  0.4302, -0.2784, -0.3488,\n",
       "          0.0053, -0.1011]], grad_fn=<AddmmBackward0>)"
      ]
     },
     "execution_count": 13,
     "metadata": {},
     "output_type": "execute_result"
    }
   ],
   "source": [
    "import torch\n",
    "from torch.nn import functional as F\n",
    "\n",
    "class MLP(torch.nn.Module):\n",
    "    def __init__(self) -> None:\n",
    "        super().__init__()\n",
    "        self.hidden = torch.nn.Linear(20, 256)  # 隐藏层\n",
    "        self.out = torch.nn.Linear(256, 10)     # 输出层\n",
    "    def forward(self, x):\n",
    "        x = F.relu(self.hidden(x))\n",
    "        return self.out(x)\n",
    "x = torch.randn(2, 20)\n",
    "net = MLP()\n",
    "net(x)"
   ]
  },
  {
   "cell_type": "markdown",
   "metadata": {},
   "source": [
    "# 5.1.2 顺序块\n",
    "自定义Sequential，实现：\n",
    "    1. 将Module逐个追加函数\n",
    "    2. 前向传播"
   ]
  },
  {
   "cell_type": "code",
   "execution_count": 14,
   "metadata": {},
   "outputs": [
    {
     "data": {
      "text/plain": [
       "tensor([[ 0.6376, -0.3519, -0.5611, -0.5517,  0.0475, -0.3580,  0.0307, -0.0160,\n",
       "         -0.0321,  0.2081],\n",
       "        [-0.3124, -0.1186,  0.7636,  0.7608,  0.2044, -0.0019, -0.3058, -0.1946,\n",
       "          0.5620,  0.0590]], grad_fn=<AddmmBackward0>)"
      ]
     },
     "execution_count": 14,
     "metadata": {},
     "output_type": "execute_result"
    }
   ],
   "source": [
    "# 注意继承自Module\n",
    "\n",
    "class MySequential(torch.nn.Module):\n",
    "    def __init__(self, *args) -> None:\n",
    "        super().__init__()\n",
    "        for idx, module in enumerate(args):\n",
    "            # 这里的_modules为OrderDict\n",
    "            self._modules[str(idx)] = module\n",
    "    \n",
    "    def forward(self, x):\n",
    "        # OrderDict保证按天降顺序遍历\n",
    "        for module in self._modules.values():\n",
    "            x = module(x)\n",
    "        return x\n",
    "\n",
    "net = MySequential(torch.nn.Linear(20, 256),torch.nn.Linear(256, 10))\n",
    "net(x)"
   ]
  },
  {
   "cell_type": "markdown",
   "metadata": {},
   "source": [
    "# 5.1.3 在前向传播函数中执行代码\n",
    "以下操作不会常用于代码，只是展示操作"
   ]
  },
  {
   "cell_type": "code",
   "execution_count": 15,
   "metadata": {},
   "outputs": [
    {
     "data": {
      "text/plain": [
       "tensor(0.2673, grad_fn=<SumBackward0>)"
      ]
     },
     "execution_count": 15,
     "metadata": {},
     "output_type": "execute_result"
    }
   ],
   "source": [
    "class FixedHiddenMLP(torch.nn.Module):\n",
    "    def __init__(self) -> None:\n",
    "        super().__init__()\n",
    "        self.rand_weight = torch.rand((20, 20), requires_grad=False)\n",
    "        self.linear = torch.nn.Linear(20, 20)\n",
    "    def forward(self, x):\n",
    "        x = self.linear(x)\n",
    "        x = F.relu(x @ self.rand_weight + 1)\n",
    "        x = self.linear(x)\n",
    "        while x.abs().sum() > 1:\n",
    "            x /= 2\n",
    "        return x.sum()\n",
    "net = FixedHiddenMLP()\n",
    "net(x)"
   ]
  },
  {
   "cell_type": "markdown",
   "metadata": {},
   "source": [
    "Module可以混搭，大型网络中会常用"
   ]
  },
  {
   "cell_type": "code",
   "execution_count": 16,
   "metadata": {},
   "outputs": [
    {
     "data": {
      "text/plain": [
       "tensor(-0.2931, grad_fn=<SumBackward0>)"
      ]
     },
     "execution_count": 16,
     "metadata": {},
     "output_type": "execute_result"
    }
   ],
   "source": [
    "class NestMLP(torch.nn.Module):\n",
    "    def __init__(self) -> None:\n",
    "        super().__init__()\n",
    "        self.net = torch.nn.Sequential(\n",
    "            torch.nn.Linear(20, 64), torch.nn.ReLU(),\n",
    "            torch.nn.Linear(64, 32), torch.nn.ReLU()\n",
    "        )\n",
    "        self.linear = torch.nn.Linear(32, 16)\n",
    "    def forward(self, x):\n",
    "        return self.linear(self.net(x))\n",
    "chimera = torch.nn.Sequential(NestMLP(), torch.nn.Linear(16, 20), FixedHiddenMLP())\n",
    "chimera(x)"
   ]
  }
 ],
 "metadata": {
  "interpreter": {
   "hash": "bf896dc9a96a1f05858648d8e08d4485cbbfeec133930887cfa661edfd77fd61"
  },
  "kernelspec": {
   "display_name": "Python 3.7.4 64-bit ('venv': venv)",
   "language": "python",
   "name": "python3"
  },
  "language_info": {
   "codemirror_mode": {
    "name": "ipython",
    "version": 3
   },
   "file_extension": ".py",
   "mimetype": "text/x-python",
   "name": "python",
   "nbconvert_exporter": "python",
   "pygments_lexer": "ipython3",
   "version": "3.7.4"
  },
  "orig_nbformat": 4
 },
 "nbformat": 4,
 "nbformat_minor": 2
}
