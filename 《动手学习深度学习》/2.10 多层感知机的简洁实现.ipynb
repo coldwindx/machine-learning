{
 "cells": [
  {
   "cell_type": "markdown",
   "metadata": {},
   "source": [
    "多层感知机和softmax回归唯一的不同在于，我们多加了一个全连接层作为隐藏层。\n",
    "它的隐藏单元个数为256，并使用ReLU函数作为激活函数。"
   ]
  },
  {
   "cell_type": "code",
   "execution_count": 1,
   "metadata": {},
   "outputs": [],
   "source": [
    "num_inputs, num_hiddens, num_outputs = 784, 256, 10\n",
    "\n",
    "# 定义模型\n",
    "import mtorch\n",
    "import torch\n",
    "\n",
    "from mtorch import nn\n",
    "\n",
    "class LinearNet(torch.nn.Module):\n",
    "    def __init__(self) -> None:\n",
    "        super(LinearNet, self).__init__()\n",
    "        self.flatten = mtorch.nn.Flatten()\n",
    "        self.hidden = torch.nn.Linear(num_inputs, num_hiddens)\n",
    "        self.relu = torch.nn.ReLU()\n",
    "        self.output = torch.nn.Linear(num_hiddens, num_outputs)\n",
    "    def forward(self,x):\n",
    "        x = self.flatten(x)\n",
    "        x = self.hidden(x)\n",
    "        x = self.relu(x)\n",
    "        x = self.output(x)\n",
    "        return x\n",
    "net = LinearNet()\n",
    "\n",
    "# 初始化参数\n",
    "for param in net.parameters():\n",
    "    torch.nn.init.normal_(param, mean = 0, std=0.01)"
   ]
  },
  {
   "cell_type": "code",
   "execution_count": 2,
   "metadata": {},
   "outputs": [
    {
     "data": {
      "text/plain": [
       "(60000, 10000)"
      ]
     },
     "execution_count": 2,
     "metadata": {},
     "output_type": "execute_result"
    }
   ],
   "source": [
    "# 训练模型\n",
    "import torchvision\n",
    "# 下载数据集\n",
    "mnist_train = torchvision.datasets.FashionMNIST(\n",
    "    root = './data/FashionMNIST',\n",
    "    train=True, download=True,\n",
    "    transform=torchvision.transforms.ToTensor()     # 自动转为torch张量\n",
    ")\n",
    "mnist_test = torchvision.datasets.FashionMNIST(\n",
    "    root = './data/FashionMNIST',\n",
    "    train=False, download=True,\n",
    "    transform=torchvision.transforms.ToTensor()     # 自动转为torch张量\n",
    ")\n",
    "len(mnist_train), len(mnist_test)"
   ]
  },
  {
   "cell_type": "code",
   "execution_count": 3,
   "metadata": {},
   "outputs": [
    {
     "name": "stdout",
     "output_type": "stream",
     "text": [
      "epoch 1, loss 0.0032, train acc 0.700, test acc 0.675\n",
      "epoch 2, loss 0.0019, train acc 0.817, test acc 0.816\n",
      "epoch 3, loss 0.0017, train acc 0.841, test acc 0.830\n",
      "epoch 4, loss 0.0015, train acc 0.856, test acc 0.762\n",
      "epoch 5, loss 0.0015, train acc 0.863, test acc 0.856\n"
     ]
    }
   ],
   "source": [
    "# 训练\n",
    "from mtorch import nn\n",
    "processor = mtorch.nn.Processor(net)\n",
    "\n",
    "processor.compile(\n",
    "    optimizer=torch.optim.SGD(net.parameters(), lr = 0.5),\n",
    "    loss=torch.nn.CrossEntropyLoss()\n",
    ")\n",
    "\n",
    "processor.fit(\n",
    "    mnist_train, batch_size=256, epochs=5,\n",
    "    validation_data=mnist_test\n",
    ")"
   ]
  }
 ],
 "metadata": {
  "interpreter": {
   "hash": "bf896dc9a96a1f05858648d8e08d4485cbbfeec133930887cfa661edfd77fd61"
  },
  "kernelspec": {
   "display_name": "Python 3.7.9 64-bit ('venv': venv)",
   "language": "python",
   "name": "python3"
  },
  "language_info": {
   "codemirror_mode": {
    "name": "ipython",
    "version": 3
   },
   "file_extension": ".py",
   "mimetype": "text/x-python",
   "name": "python",
   "nbconvert_exporter": "python",
   "pygments_lexer": "ipython3",
   "version": "3.7.9"
  },
  "orig_nbformat": 4
 },
 "nbformat": 4,
 "nbformat_minor": 2
}
