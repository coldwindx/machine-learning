{
 "cells": [
  {
   "cell_type": "code",
   "execution_count": 1,
   "metadata": {},
   "outputs": [],
   "source": [
    "import torchvision\n",
    "# 下载数据集\n",
    "mnist_train = torchvision.datasets.FashionMNIST(\n",
    "    root = './data/FashionMNIST',\n",
    "    train=True, download=True,\n",
    "    transform=torchvision.transforms.ToTensor()     # 自动转为torch张量\n",
    ")\n",
    "mnist_test = torchvision.datasets.FashionMNIST(\n",
    "    root = './data/FashionMNIST',\n",
    "    train=False, download=True,\n",
    "    transform=torchvision.transforms.ToTensor()     # 自动转为torch张量\n",
    ")\n",
    "len(mnist_train), len(mnist_test)\n",
    "\n",
    "import torch\n",
    "import torch.utils.data\n",
    "\n",
    "batch_size = 256\n",
    "\n",
    "train_iter = torch.utils.data.DataLoader(\n",
    "    mnist_train, batch_size=batch_size,\n",
    "    shuffle=True,\n",
    "    num_workers=0       # 开启num_workers个线程\n",
    ")\n",
    "test_iter = torch.utils.data.DataLoader(\n",
    "    mnist_test, batch_size=batch_size,\n",
    "    shuffle=True,\n",
    "    num_workers=0       # 开启num_workers个线程\n",
    ")\n",
    "\n"
   ]
  },
  {
   "cell_type": "code",
   "execution_count": 2,
   "metadata": {},
   "outputs": [],
   "source": [
    "# 定义模型\n",
    "import torch\n",
    "\n",
    "class LinearNet(torch.nn.Module):\n",
    "    def __init__(self, num_inputs, num_outputs) -> None:\n",
    "        super(LinearNet, self).__init__()\n",
    "        self.linear = torch.nn.Linear(num_inputs, num_outputs)\n",
    "    def forward(self, x):\n",
    "        return self.linear(x.view(x.shape[0], -1))\n",
    "\n",
    "num_inputs, num_outputs = 784, 10\n",
    "net = LinearNet(num_inputs, num_outputs)"
   ]
  },
  {
   "cell_type": "code",
   "execution_count": 3,
   "metadata": {},
   "outputs": [],
   "source": [
    "# 随机化参数\n",
    "torch.nn.init.normal_(net.linear.weight, mean = 0, std = 0.01)\n",
    "torch.nn.init.constant_(net.linear.bias, val = 0)\n",
    "\n",
    "loss = torch.nn.CrossEntropyLoss()\n",
    "optimizer = torch.optim.SGD(net.parameters(), lr=0.1)"
   ]
  },
  {
   "cell_type": "code",
   "execution_count": 4,
   "metadata": {},
   "outputs": [
    {
     "name": "stdout",
     "output_type": "stream",
     "text": [
      "epoch 1, loss 0.0031, train acc 0.750, test acc 0.774\n",
      "epoch 2, loss 0.0022, train acc 0.813, test acc 0.811\n",
      "epoch 3, loss 0.0021, train acc 0.827, test acc 0.821\n",
      "epoch 4, loss 0.0020, train acc 0.833, test acc 0.791\n",
      "epoch 5, loss 0.0019, train acc 0.837, test acc 0.819\n"
     ]
    }
   ],
   "source": [
    "def evaluate_accuracy(data_iter, net):\n",
    "    acc_sum, n = 0.0, 0\n",
    "    for x, y in data_iter:\n",
    "        acc_sum += (net(x).argmax(dim = 1) == y).float().sum().item()\n",
    "        n += y.shape[0]\n",
    "    return acc_sum / n\n",
    "# 训练模型\n",
    "epochs = 5\n",
    "def train(net, train_iter, test_iter, loss, epochs):\n",
    "    for epoch in range(epochs):\n",
    "        train_loss_sum, train_acc_sum, n = 0.0, 0.0, 0\n",
    "        for x, y in train_iter:\n",
    "            y_hat = net(x)\n",
    "            l = loss(y_hat, y).sum()\n",
    "            optimizer.zero_grad()\n",
    "            l.backward()\n",
    "            optimizer.step()\n",
    "\n",
    "            train_loss_sum += l.sum().item()\n",
    "            train_acc_sum += (y_hat.argmax(dim = 1) == y).sum().item()\n",
    "            n += y.shape[0]\n",
    "        test_acc = evaluate_accuracy(test_iter, net)\n",
    "        print('epoch %d, loss %.4f, train acc %.3f, test acc %.3f' %\n",
    "                (epoch+1, train_loss_sum/n, train_acc_sum/n, test_acc))\n",
    "\n",
    "train(net, train_iter, test_iter, loss, epochs)\n"
   ]
  }
 ],
 "metadata": {
  "interpreter": {
   "hash": "bf896dc9a96a1f05858648d8e08d4485cbbfeec133930887cfa661edfd77fd61"
  },
  "kernelspec": {
   "display_name": "Python 3.7.9 64-bit ('venv': venv)",
   "language": "python",
   "name": "python3"
  },
  "language_info": {
   "codemirror_mode": {
    "name": "ipython",
    "version": 3
   },
   "file_extension": ".py",
   "mimetype": "text/x-python",
   "name": "python",
   "nbconvert_exporter": "python",
   "pygments_lexer": "ipython3",
   "version": "3.7.9"
  },
  "orig_nbformat": 4
 },
 "nbformat": 4,
 "nbformat_minor": 2
}
