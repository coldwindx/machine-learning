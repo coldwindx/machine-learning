{
 "cells": [
  {
   "cell_type": "markdown",
   "metadata": {},
   "source": [
    "# 线性回归"
   ]
  },
  {
   "cell_type": "code",
   "execution_count": 42,
   "metadata": {},
   "outputs": [
    {
     "data": {
      "text/plain": [
       "(tensor([ 1.9223, -1.6502]), tensor(13.6424))"
      ]
     },
     "execution_count": 42,
     "metadata": {},
     "output_type": "execute_result"
    }
   ],
   "source": [
    "# 生成数据集\n",
    "import torch\n",
    "import numpy as np\n",
    "\n",
    "num_features, num_examples = 2, 1000\n",
    "w_true, b_true = [2, -3.4], 4.2\n",
    "features = torch.randn(num_examples, num_features, dtype=torch.float32)\n",
    "labels = w_true[0] * features[:,0] + w_true[1] * features[:,1] + b_true\n",
    "# 添加噪声\n",
    "labels += torch.tensor(np.random.normal(0, 0.01, size=labels.size()), dtype=torch.float32)\n",
    "features[0], labels[0]"
   ]
  },
  {
   "cell_type": "code",
   "execution_count": 37,
   "metadata": {},
   "outputs": [
    {
     "data": {
      "image/png": "[encoded data removed]",
      "text/plain": [
       "<Figure size 432x288 with 1 Axes>"
      ]
     },
     "metadata": {
      "needs_background": "light"
     },
     "output_type": "display_data"
    }
   ],
   "source": [
    "# 绘制散点图\n",
    "from matplotlib import pyplot as plt\n",
    "\n",
    "plt.scatter(features[:, 1].numpy(), labels.numpy(), 1)\n",
    "plt.show()"
   ]
  },
  {
   "cell_type": "code",
   "execution_count": 38,
   "metadata": {},
   "outputs": [
    {
     "name": "stdout",
     "output_type": "stream",
     "text": [
      "tensor([[-0.2690, -1.7546],\n",
      "        [ 1.2472,  1.2687],\n",
      "        [-1.2272,  0.0588],\n",
      "        [ 0.0339, -0.1243],\n",
      "        [-1.2129, -0.1834],\n",
      "        [-1.4605, -1.6168],\n",
      "        [-0.8641, -0.4398],\n",
      "        [ 0.0192,  0.9621],\n",
      "        [-0.8707,  1.9174],\n",
      "        [-0.2451, -0.3066]]) tensor([ 9.6242,  2.3817,  1.5432,  4.6929,  2.3946,  6.7868,  3.9577,  0.9708,\n",
      "        -4.0495,  4.7542])\n"
     ]
    }
   ],
   "source": [
    "# 读取数据集，每次读取batch_size大小的数据处理\n",
    "import random\n",
    "\n",
    "def data_iter(batch_size, features, labels):\n",
    "    num_examples = len(features)\n",
    "    indexs = list(range(num_examples))\n",
    "    # 随机读取\n",
    "    random.shuffle(indexs)\n",
    "    for i in range(0, num_examples, batch_size):\n",
    "        indices = torch.LongTensor(indexs[i:min(i + batch_size, num_examples)])\n",
    "        yield features.index_select(0, indices), labels.index_select(0, indices)\n",
    "\n",
    "batch_size = 10\n",
    "for x, y in data_iter(batch_size, features, labels):\n",
    "    print(x, y)\n",
    "    break"
   ]
  },
  {
   "cell_type": "code",
   "execution_count": 39,
   "metadata": {},
   "outputs": [],
   "source": [
    "# 初始化模型参数 w,b\n",
    "w = torch.tensor(np.random.normal(0, 0.01, (num_features, 1)), \n",
    "                    dtype=torch.float32,\n",
    "                    requires_grad=True)\n",
    "b = torch.zeros(1, dtype=torch.float32, requires_grad=True)"
   ]
  },
  {
   "cell_type": "code",
   "execution_count": 40,
   "metadata": {},
   "outputs": [],
   "source": [
    "# 定义模型相关\n",
    "## 定义模型\n",
    "def linreg(x, w, b):\n",
    "    return x @ w + b\n",
    "\n",
    "## 定义损失函数\n",
    "def loss_squard(y_hat, y):\n",
    "    return (y_hat - y.view(y_hat.size())) ** 2 / 2\n",
    "\n",
    "## 定义优化算法 params = [w, b]\n",
    "def sgd(params, lr, batch_size):\n",
    "    for param in params:\n",
    "        param.data -= lr * param.grad / batch_size"
   ]
  },
  {
   "cell_type": "code",
   "execution_count": 41,
   "metadata": {},
   "outputs": [
    {
     "name": "stdout",
     "output_type": "stream",
     "text": [
      "epoch 1, loss 0.048957\n",
      "epoch 2, loss 0.000203\n",
      "epoch 3, loss 0.000048\n",
      "[2, -3.4] tensor([[ 1.9993],\n",
      "        [-3.4002]], requires_grad=True)\n",
      "4.2 tensor([4.1994], requires_grad=True)\n"
     ]
    }
   ],
   "source": [
    "# 模型训练（小批量随机梯度下降）\n",
    "lr, epochs, loss, network = 0.03, 3, loss_squard, linreg\n",
    "\n",
    "for i in range(epochs):\n",
    "    # 每个迭代周期对全部数据训练一遍\n",
    "    for x, y in data_iter(batch_size, features, labels):\n",
    "        y_hat = network(x, w, b)\n",
    "        l = loss(y_hat, y).sum()\n",
    "        l.backward()                    # 自动计算梯度\n",
    "        sgd([w, b], lr, batch_size)     # 梯度下降\n",
    "        w.grad.data.zero_()\n",
    "        b.grad.data.zero_()\n",
    "    l_train = loss(network(features, w, b), labels).mean().item()\n",
    "    print('epoch %d, loss %f' % (i+1, l_train))\n",
    "print(w_true, w)\n",
    "print(b_true, b)"
   ]
  }
 ],
 "metadata": {
  "interpreter": {
   "hash": "bf896dc9a96a1f05858648d8e08d4485cbbfeec133930887cfa661edfd77fd61"
  },
  "kernelspec": {
   "display_name": "Python 3.7.9 64-bit ('venv': venv)",
   "language": "python",
   "name": "python3"
  },
  "language_info": {
   "codemirror_mode": {
    "name": "ipython",
    "version": 3
   },
   "file_extension": ".py",
   "mimetype": "text/x-python",
   "name": "python",
   "nbconvert_exporter": "python",
   "pygments_lexer": "ipython3",
   "version": "3.7.9"
  },
  "orig_nbformat": 4
 },
 "nbformat": 4,
 "nbformat_minor": 2
}
