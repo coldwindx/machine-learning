{
 "cells": [
  {
   "cell_type": "code",
   "execution_count": 31,
   "metadata": {},
   "outputs": [
    {
     "data": {
      "text/plain": [
       "(tensor([-1.1068, -0.2320]), tensor(2.7696))"
      ]
     },
     "execution_count": 31,
     "metadata": {},
     "output_type": "execute_result"
    }
   ],
   "source": [
    "# 生成数据集\n",
    "import torch\n",
    "import numpy as np\n",
    "\n",
    "num_features, num_examples = 2, 1000\n",
    "w_true, b_true = [2, -3.4], 4.2\n",
    "features = torch.randn(num_examples, num_features, dtype=torch.float32)\n",
    "labels = w_true[0] * features[:,0] + w_true[1] * features[:,1] + b_true\n",
    "# 添加噪声\n",
    "labels += torch.tensor(np.random.normal(0, 0.01, size=labels.size()), dtype=torch.float32)\n",
    "features[0], labels[0]"
   ]
  },
  {
   "cell_type": "code",
   "execution_count": 32,
   "metadata": {},
   "outputs": [
    {
     "name": "stdout",
     "output_type": "stream",
     "text": [
      "tensor([[ 0.0423,  0.0058],\n",
      "        [-0.2988,  1.1971],\n",
      "        [-1.8696, -0.4114],\n",
      "        [-0.4634, -0.2314],\n",
      "        [ 0.6169,  0.3444],\n",
      "        [ 0.1787,  1.0380],\n",
      "        [-0.7518, -1.3058],\n",
      "        [ 1.3697, -1.3374],\n",
      "        [-0.5880,  0.0984],\n",
      "        [-0.5575,  0.0125]]) tensor([ 4.2692, -0.4841,  1.8642,  4.0792,  4.2638,  1.0193,  7.1576, 11.4724,\n",
      "         2.7118,  3.0605])\n"
     ]
    }
   ],
   "source": [
    "import torch.utils.data as Data\n",
    "\n",
    "batch_size = 10\n",
    "# 特征与标签组合\n",
    "datasets = Data.TensorDataset(features, labels)\n",
    "# 随机读取小批量\n",
    "data_iter = Data.DataLoader(datasets, batch_size, shuffle=True)\n",
    "\n",
    "for x, y in data_iter:\n",
    "    print(x, y)\n",
    "    break"
   ]
  },
  {
   "cell_type": "code",
   "execution_count": 33,
   "metadata": {},
   "outputs": [
    {
     "name": "stdout",
     "output_type": "stream",
     "text": [
      "LinearNet(\n",
      "  (linear): Linear(in_features=2, out_features=1, bias=True)\n",
      ")\n"
     ]
    }
   ],
   "source": [
    "# 定义模型\n",
    "class LinearNet(torch.nn.Module):\n",
    "    def __init__(self, num_features) -> None:\n",
    "        super(LinearNet, self).__init__()\n",
    "        # 定义一层网络结构\n",
    "        self.linear = torch.nn.Linear(num_features, 1)\n",
    "    # 定义前向传播\n",
    "    def forward(self, x):\n",
    "        return self.linear(x)\n",
    "\n",
    "# 构建一个模型\n",
    "net = LinearNet(num_features)\n",
    "print(net)\n"
   ]
  },
  {
   "cell_type": "code",
   "execution_count": 34,
   "metadata": {},
   "outputs": [
    {
     "name": "stdout",
     "output_type": "stream",
     "text": [
      "Parameter containing:\n",
      "tensor([[0.2844, 0.4371]], requires_grad=True)\n",
      "Parameter containing:\n",
      "tensor([-0.6035], requires_grad=True)\n"
     ]
    }
   ],
   "source": [
    "# 查看所有的可学习参数\n",
    "for param in net.parameters():\n",
    "    print(param)"
   ]
  },
  {
   "cell_type": "code",
   "execution_count": 35,
   "metadata": {},
   "outputs": [
    {
     "name": "stdout",
     "output_type": "stream",
     "text": [
      "SGD (\n",
      "Parameter Group 0\n",
      "    dampening: 0\n",
      "    lr: 0.03\n",
      "    maximize: False\n",
      "    momentum: 0\n",
      "    nesterov: False\n",
      "    weight_decay: 0\n",
      ")\n"
     ]
    }
   ],
   "source": [
    "# 初始化模型参数\n",
    "torch.nn.init.normal_(net.linear.weight, mean=0, std=0.01)\n",
    "torch.nn.init.constant_(net.linear.bias, val=0)\n",
    "\n",
    "# 定义损失函数和优化算法\n",
    "\n",
    "loss = torch.nn.MSELoss()\n",
    "optimizer = torch.optim.SGD(net.parameters(), lr=0.03)\n",
    "print(optimizer)"
   ]
  },
  {
   "cell_type": "code",
   "execution_count": 36,
   "metadata": {},
   "outputs": [
    {
     "name": "stdout",
     "output_type": "stream",
     "text": [
      "epoch 1, loss: 0.000410\n",
      "epoch 2, loss: 0.000098\n",
      "epoch 3, loss: 0.000135\n"
     ]
    }
   ],
   "source": [
    "# 模型训练\n",
    "epochs = 3\n",
    "for epoch in range(1, epochs + 1):\n",
    "    for x, y in data_iter:\n",
    "        y_hat = net(x)\n",
    "        l = loss(y_hat, y.view(y_hat.shape))\n",
    "        optimizer.zero_grad()\n",
    "        l.backward()\n",
    "        optimizer.step()\n",
    "    print('epoch %d, loss: %f' % (epoch, l.item()))"
   ]
  },
  {
   "cell_type": "code",
   "execution_count": 37,
   "metadata": {},
   "outputs": [
    {
     "name": "stdout",
     "output_type": "stream",
     "text": [
      "[2, -3.4] Parameter containing:\n",
      "tensor([[ 2.0002, -3.3994]], requires_grad=True)\n",
      "4.2 Parameter containing:\n",
      "tensor([4.2009], requires_grad=True)\n"
     ]
    }
   ],
   "source": [
    "\n",
    "print(w_true, net.linear.weight)\n",
    "print(b_true, net.linear.bias)"
   ]
  }
 ],
 "metadata": {
  "interpreter": {
   "hash": "bf896dc9a96a1f05858648d8e08d4485cbbfeec133930887cfa661edfd77fd61"
  },
  "kernelspec": {
   "display_name": "Python 3.7.9 64-bit ('venv': venv)",
   "language": "python",
   "name": "python3"
  },
  "language_info": {
   "codemirror_mode": {
    "name": "ipython",
    "version": 3
   },
   "file_extension": ".py",
   "mimetype": "text/x-python",
   "name": "python",
   "nbconvert_exporter": "python",
   "pygments_lexer": "ipython3",
   "version": "3.7.9"
  },
  "orig_nbformat": 4
 },
 "nbformat": 4,
 "nbformat_minor": 2
}
