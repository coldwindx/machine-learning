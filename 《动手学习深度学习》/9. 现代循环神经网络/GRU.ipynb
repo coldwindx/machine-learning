{
 "cells": [
  {
   "cell_type": "code",
   "execution_count": 1,
   "metadata": {},
   "outputs": [],
   "source": [
    "import torch\n",
    "import sys\n",
    "sys.path.append('..')\n",
    "import helper\n",
    "\n",
    "batch_size, num_steps = 32, 35\n",
    "train_iter, vocab = helper.Loader.load_data_time_machine(batch_size, num_steps)"
   ]
  },
  {
   "cell_type": "code",
   "execution_count": 2,
   "metadata": {},
   "outputs": [],
   "source": [
    "def get_params(vocab_size, num_hiddens, device):\n",
    "    num_inputs = num_outputs = vocab_size\n",
    "    def normal(shape):\n",
    "        return torch.randn(size=shape, device=device) * 0.01\n",
    "    def three():\n",
    "        return (normal((num_inputs, num_hiddens)),\n",
    "                normal((num_hiddens, num_hiddens)),\n",
    "                torch.zeros(num_hiddens, device=device))\n",
    "    W_xz, W_hz, b_z = three()  # 更新门参数\n",
    "    W_xr, W_hr, b_r = three()  # 重置门参数\n",
    "    W_xh, W_hh, b_h = three()  # 候选隐状态参数\n",
    "    # 输出层\n",
    "    W_hq = normal((num_hiddens, num_outputs))\n",
    "    b_q = torch.zeros(num_outputs, device=device)\n",
    "    # 附加梯度\n",
    "    params = [W_xz, W_hz, b_z, W_xr, W_hr, b_r, W_xh, W_hh, b_h, W_hq, b_q]\n",
    "    for param in params:\n",
    "        param.requires_grad_(True)\n",
    "    return params"
   ]
  },
  {
   "cell_type": "code",
   "execution_count": 3,
   "metadata": {},
   "outputs": [],
   "source": [
    "def init_gru_state(batch_size, num_hiddens, device):\n",
    "    return (torch.zeros((batch_size, num_hiddens), device=device),)"
   ]
  },
  {
   "cell_type": "code",
   "execution_count": 4,
   "metadata": {},
   "outputs": [],
   "source": [
    "def gru(inputs, state, params):\n",
    "    W_xz, W_hz, b_z, W_xr, W_hr, b_r, W_xh, W_hh, b_h, W_hq, b_q = params\n",
    "    H, = state\n",
    "    outputs = []\n",
    "    for X in inputs:\n",
    "        Z = torch.sigmoid((X @ W_xz) + (H @ W_hz) + b_z)\n",
    "        R = torch.sigmoid((X @ W_xr) + (H @ W_hr) + b_r)\n",
    "        H_tilda = torch.tanh((X @ W_xh) + ((R * H) @ W_hh) + b_h)\n",
    "        H = Z * H + (1 - Z) * H_tilda\n",
    "        Y = H @ W_hq + b_q\n",
    "        outputs.append(Y)\n",
    "    return torch.cat(outputs, dim=0), (H,)"
   ]
  },
  {
   "cell_type": "code",
   "execution_count": 5,
   "metadata": {},
   "outputs": [
    {
     "name": "stdout",
     "output_type": "stream",
     "text": [
      "time traveller                                                  \n",
      "time traveller t at at at at at at at at at at at at at at at at\n",
      "time travellere the the the the the the the the the the the the \n",
      "time travellere the the the the the the the the the the the the \n",
      "time travellere the the the the the the the the the the the the \n",
      "time travellere the the the the the the the the the the the the \n",
      "time travellere the the the the the the the the the the the the \n",
      "time travellerererererererererererererererererererererererererer\n",
      "time traveller and the the the the the the the the the the the t\n",
      "time traveller and the the the the the the the the the the the t\n",
      "time traveller and the the the the the the the the the the the t\n",
      "time travellere the the the the the the the the the the the the \n",
      "time travellere the the the the the the the the the the the the \n",
      "time traveller the the the the the the the the the the the the t\n",
      "time traveller the the the the the the the the the the the the t\n",
      "time traveller and the the the the the the the the the the the t\n",
      "time traveller and the the the the the the the the the the the t\n",
      "time traveller the the the the the the the the the the the the t\n",
      "time traveller the there the there the there the there the there\n",
      "time traveller the time traveller the time traveller the time tr\n",
      "time traveller the the the the the the the the the the the the t\n",
      "time traveller the time traveller the time traveller the time tr\n",
      "time traveller the thered the thered the thered the thered the t\n",
      "time traveller the time traveller the time traveller the time tr\n",
      "time traveller the time traveller the time traveller the time tr\n",
      "time traveller the time traveller the time traveller the time tr\n",
      "time travellerice the inston and the time traveller the pare and\n",
      "time traveller the time travel the time travel the time travel t\n",
      "time travellerit s all have experine to eracent sot as intime tr\n",
      "time traveller the foul the time traveller the time travel expec\n",
      "time traveller have is move about in the fire is artarkedical me\n",
      "time traveller the prycane siminctally se pering way had expe in\n",
      "time traveller they warge tromet lyom shan l back very i said th\n",
      "time traveller the provincial mayorit is simply this that ssimal\n",
      "time traveller that us a somitryfle so mushem than the sthr expe\n",
      "time travellericulare parnos to be another said the medical man \n",
      "time traveller came back andfilby s anecdote collapsedthe thing \n",
      "time travelleryou may is his hand of the fourth dimension of spa\n",
      "time travellericularelychen abeatte than inead braclastericilis \n",
      "time travellerict alonether than a small clock and verydelicatel\n",
      "time travellerical man at it is and haveno dimensions but he pay\n",
      "time traveller of his lepspand direction along thelatter from th\n",
      "time traveller come in mevily batmeminelanly butweme traveller f\n",
      "time travelleryou can show black is white by argument said filby\n",
      "time travelleryou can show black is white by argument said filby\n",
      "time traveller but sou gime traveller but now you begin to seeth\n",
      "time traveller but some highone s gons dotent oft a man a ling o\n",
      "time traveller but som thickness and is always definable by refe\n",
      "time traveller but now you begin to seethe object of my investig\n",
      "time traveller with a slight accession ofcheerfulness really thi\n",
      "困惑度 1.1, 18713.4 词元/秒 cuda:0\n",
      "time traveller with a slight accession ofcheerfulness really thi\n",
      "traveller after the pauserequired for the proper assimilati\n"
     ]
    },
    {
     "data": {
      "image/png": "[encoded data removed]",
      "text/plain": [
       "<Figure size 252x180 with 1 Axes>"
      ]
     },
     "metadata": {
      "needs_background": "light"
     },
     "output_type": "display_data"
    }
   ],
   "source": [
    "vocab_size, num_hiddens, device = len(vocab), 256, helper.GPU.try_gpu()\n",
    "num_epochs, lr = 500, 1\n",
    "model = helper.RNNModelScratch(vocab_size, num_hiddens, device, get_params, init_gru_state, gru)\n",
    "helper.train_ch8(model, train_iter, vocab, lr, num_epochs, device)"
   ]
  },
  {
   "cell_type": "code",
   "execution_count": 6,
   "metadata": {},
   "outputs": [
    {
     "name": "stdout",
     "output_type": "stream",
     "text": [
      "time traveller te te te te te te te te te te te te te te te te t\n",
      "time traveller the the the the the the the the the the the the t\n",
      "time travellerererererererererererererererererererererererererer\n",
      "time travellere the the the the the the the the the the the the \n",
      "time travellerererererererererererererererererererererererererer\n",
      "time travellere the the the the the the the the the the the the \n",
      "time traveller and the the the the the the the the the the the t\n",
      "time traveller the the the the the the the the the the the the t\n",
      "time travellere the the the the the the the the the the the the \n",
      "time traveller the the the the the the the the the the the the t\n",
      "time traveller and the the the the the the the the the the the t\n",
      "time traveller the the the the the the the the the the the the t\n",
      "time traveller and the the the the the the the the the the the t\n",
      "time traveller the there in the there the the the the the the th\n",
      "time traveller the there in there in there in there in there in \n",
      "time traveller the thing the time traveller the thing the time t\n",
      "time traveller the the the the the the the the the the the the t\n",
      "time traveller thing sim the prace that is a mint of the nes on \n",
      "time traveller the fourding and this leps and this the fourding \n",
      "time traveller the time traveller the time traveller the time tr\n",
      "time traveller the tome and and and thet that said the time trav\n",
      "time traveller the fourth dimension of space the travel to space\n",
      "time traveller s tordes showell three dimensions has that shich \n",
      "time traveller whis that very culn the tore and so it youll the \n",
      "time traveller s mones be care of it se medical mather said the \n",
      "time traveller wholing that i the time traveller for so it will \n",
      "time traveller for so it will be convenient to space and a fourt\n",
      "time traveller for so it will be convenient to speak of himwas e\n",
      "time traveller frie that slich allnow hal said the medical man a\n",
      "time travellerit s against reason said filby an argumentative pe\n",
      "time traveller smiled as ungimstou cheir whis thatover some fion\n",
      "time traveller for so it will be convenient to speak of himwas e\n",
      "time traveller for so it will be convenient to speak of himwas e\n",
      "time traveller for so it will be convenient to speak of himwas e\n",
      "time traveller for so it will be convenient to speak of himwas e\n",
      "time travelleryou can show black is white by argument said filby\n",
      "time traveller for so it will be convenient to speak of himwas e\n",
      "time travelleryou can show black is white by argument said filby\n",
      "time traveller for so it will be convenient to speak of himwas e\n",
      "time traveller for so it will be convenient to speak of himwas e\n",
      "time traveller has fausthr ofceres of the tith erimiledffly the \n",
      "time traveller for so it will be convenient to speak of himwas e\n",
      "time traveller for so it will be convenient to speak of himwas e\n",
      "time traveller for so it will be convenient to speak of himwas e\n",
      "time traveller for so it will be convenient to speak of himwas e\n",
      "time traveller for so it will be convenient to speak of himwas e\n",
      "time traveller for so it will be convenient to speak of himwas e\n",
      "time traveller for so it will be convenient to speak of himwas e\n",
      "time traveller for so it will be convenient to speak of himwas e\n",
      "time traveller for so it will be convenient to speak of himwas e\n",
      "困惑度 1.0, 28887.2 词元/秒 cuda:0\n",
      "time traveller for so it will be convenient to speak of himwas e\n",
      "travelleryou can show black is white by argument said filby\n"
     ]
    },
    {
     "data": {
      "image/png": "[encoded data removed]",
      "text/plain": [
       "<Figure size 252x180 with 1 Axes>"
      ]
     },
     "metadata": {
      "needs_background": "light"
     },
     "output_type": "display_data"
    }
   ],
   "source": [
    "num_inputs = vocab_size\n",
    "gru_layer = torch.nn.GRU(num_inputs, num_hiddens)\n",
    "model = helper.RNNModel(gru_layer, vocab_size)\n",
    "model = model.to(device)\n",
    "helper.train_ch8(model, train_iter, vocab, lr, num_epochs, device)"
   ]
  }
 ],
 "metadata": {
  "kernelspec": {
   "display_name": "Python 3.7.4 ('venv': venv)",
   "language": "python",
   "name": "python3"
  },
  "language_info": {
   "codemirror_mode": {
    "name": "ipython",
    "version": 3
   },
   "file_extension": ".py",
   "mimetype": "text/x-python",
   "name": "python",
   "nbconvert_exporter": "python",
   "pygments_lexer": "ipython3",
   "version": "3.7.4"
  },
  "orig_nbformat": 4,
  "vscode": {
   "interpreter": {
    "hash": "5285dd86b1a1b9eefb8e6b22eadc9e8c9cfa7142ff11ff14f45d2bf734aec44f"
   }
  }
 },
 "nbformat": 4,
 "nbformat_minor": 2
}
