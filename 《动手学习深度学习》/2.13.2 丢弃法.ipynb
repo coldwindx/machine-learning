{
 "cells": [
  {
   "cell_type": "code",
   "execution_count": 22,
   "metadata": {},
   "outputs": [],
   "source": [
    "import torch\n",
    "import numpy as np"
   ]
  },
  {
   "cell_type": "code",
   "execution_count": 23,
   "metadata": {},
   "outputs": [],
   "source": [
    "def dropout(x, prob):\n",
    "    x = x.float()\n",
    "    assert 0 <= prob <= 1\n",
    "    if 1 == prob:\n",
    "        return torch.zeros_like(x)\n",
    "    mask = (torch.rand(x.shape) < (1 - prob)).float()\n",
    "    return mask * x / (1 - prob)"
   ]
  },
  {
   "cell_type": "code",
   "execution_count": 24,
   "metadata": {},
   "outputs": [
    {
     "name": "stdout",
     "output_type": "stream",
     "text": [
      "tensor([[ 0.,  1.,  2.,  3.,  4.,  5.,  6.,  7.],\n",
      "        [ 8.,  9., 10., 11., 12., 13., 14., 15.]])\n",
      "tensor([[ 0.,  2.,  4.,  6.,  0., 10., 12., 14.],\n",
      "        [16., 18., 20., 22.,  0.,  0., 28.,  0.]])\n",
      "tensor([[0., 0., 0., 0., 0., 0., 0., 0.],\n",
      "        [0., 0., 0., 0., 0., 0., 0., 0.]])\n"
     ]
    }
   ],
   "source": [
    "x = torch.arange(16).view(2, 8)\n",
    "print(dropout(x, 0))\n",
    "print(dropout(x, 0.5))\n",
    "print(dropout(x, 1))"
   ]
  },
  {
   "cell_type": "code",
   "execution_count": 25,
   "metadata": {},
   "outputs": [],
   "source": [
    "# 定义模型参数\n",
    "num_inputs, num_hidden1, num_hidden2, num_outputs = 784, 256, 256, 10\n",
    "w1 = torch.tensor(\n",
    "    np.random.normal(0, 0.01, size=(num_inputs, num_hidden1)),\n",
    "    dtype=torch.float32,\n",
    "    requires_grad=True\n",
    ")\n",
    "b1 = torch.zeros(num_hidden1, requires_grad=True)\n",
    "w2 = torch.tensor(\n",
    "    np.random.normal(0, 0.01, size=(num_hidden1, num_hidden2)),\n",
    "    dtype=torch.float32,\n",
    "    requires_grad=True\n",
    ")\n",
    "b2 = torch.zeros(num_hidden2, requires_grad=True)\n",
    "w3 = torch.tensor(\n",
    "    np.random.normal(0, 0.01, size=(num_hidden2, num_outputs)),\n",
    "    dtype=torch.float32,\n",
    "    requires_grad=True\n",
    ")\n",
    "b3 = torch.zeros(num_outputs, requires_grad=True)\n",
    "params = [w1, b1, w2, b2, w3, b3]"
   ]
  },
  {
   "cell_type": "code",
   "execution_count": 26,
   "metadata": {},
   "outputs": [],
   "source": [
    "# 定义模型\n",
    "prob1, prob2 = 0.2, 0.5\n",
    "def net(x, is_training = True):\n",
    "    x = x.view(-1, num_inputs)\n",
    "    H1 = (torch.matmul(x, w1) + b1).relu()\n",
    "    if is_training:\n",
    "        H1 = dropout(H1, prob1)\n",
    "    \n",
    "    H2 = (torch.matmul(H1, w2) + b2).relu()\n",
    "    if is_training:\n",
    "        H2 = dropout(H2, prob2)\n",
    "    return (torch.matmul(H2, w3) + b3)"
   ]
  },
  {
   "cell_type": "code",
   "execution_count": 27,
   "metadata": {},
   "outputs": [],
   "source": [
    "def evaluate_accuracy(data_iter, net):\n",
    "    acc_sum, n = 0.0, 0\n",
    "    for x, y in data_iter:\n",
    "        n += y.shape[0]\n",
    "        if isinstance(net, torch.nn.Module):\n",
    "            net.eval()      # 评估模式，这会关闭dropout\n",
    "            acc_sum += (net(x).argmax(dim = 1) == y).float().sum().item()\n",
    "            net.train()     # 改回训练模式\n",
    "            continue\n",
    "        if ('is_training' in net.__code__.co_varnames):\n",
    "            acc_sum += (net(x, is_training = False).argmax(dim = 1) == y).float().sum().item()\n",
    "            continue\n",
    "        acc_sum += (net(x).argmax(dim = 1) == y).float().sum().item()\n",
    "    return acc_sum / n"
   ]
  },
  {
   "cell_type": "code",
   "execution_count": 28,
   "metadata": {},
   "outputs": [],
   "source": [
    "import torchvision\n",
    "# 下载数据集\n",
    "mnist_train = torchvision.datasets.FashionMNIST(\n",
    "    root = './data/FashionMNIST',\n",
    "    train=True, download=True,\n",
    "    transform=torchvision.transforms.ToTensor()     # 自动转为torch张量\n",
    ")\n",
    "mnist_test = torchvision.datasets.FashionMNIST(\n",
    "    root = './data/FashionMNIST',\n",
    "    train=False, download=True,\n",
    "    transform=torchvision.transforms.ToTensor()     # 自动转为torch张量\n",
    ")\n",
    "train_iter = torch.utils.data.DataLoader(\n",
    "    mnist_train, batch_size=256,\n",
    "    shuffle=True,\n",
    "    num_workers=0       # 开启num_workers个线程\n",
    ")\n",
    "test_iter = torch.utils.data.DataLoader(\n",
    "    mnist_test, batch_size=256,\n",
    "    shuffle=True,\n",
    "    num_workers=0       # 开启num_workers个线程\n",
    ")\n",
    "def sgd(params, lr, batch_size):\n",
    "    for param in params:\n",
    "        param.data -= param.grad * lr / batch_size\n",
    "def train(net, train_iter, test_iter, loss, epochs, batch_size, params, lr):\n",
    "    for epoch in range(epochs):\n",
    "        train_loss_sum, train_acc_sum, n = 0.0, 0.0, 0\n",
    "        for x, y in train_iter:\n",
    "            y_hat = net(x)\n",
    "            l = loss(y_hat, y).sum()\n",
    "\n",
    "            l.backward()\n",
    "            sgd(params, lr, batch_size)\n",
    "\n",
    "            for param in params:\n",
    "                param.grad.data.zero_()\n",
    "            \n",
    "            train_loss_sum += l.sum().item()\n",
    "            train_acc_sum += (y_hat.argmax(dim = 1) == y).sum().item()\n",
    "            n += y.shape[0]\n",
    "        test_acc = evaluate_accuracy(test_iter, net)\n",
    "        print('epoch %d, loss %.4f, train acc %.3f, test acc %.3f' %\n",
    "                (epoch+1, train_loss_sum/n, train_acc_sum/n, test_acc))\n",
    "\n"
   ]
  },
  {
   "cell_type": "code",
   "execution_count": 29,
   "metadata": {},
   "outputs": [
    {
     "name": "stdout",
     "output_type": "stream",
     "text": [
      "epoch 1, loss 0.0045, train acc 0.549, test acc 0.736\n",
      "epoch 2, loss 0.0023, train acc 0.784, test acc 0.771\n",
      "epoch 3, loss 0.0019, train acc 0.821, test acc 0.777\n",
      "epoch 4, loss 0.0018, train acc 0.837, test acc 0.794\n",
      "epoch 5, loss 0.0016, train acc 0.848, test acc 0.838\n"
     ]
    }
   ],
   "source": [
    "# 训练\n",
    "num_epochs, lr, batch_size = 5, 100, 256\n",
    "loss = torch.nn.CrossEntropyLoss()\n",
    "train(net, train_iter, test_iter, loss, num_epochs, batch_size, params, lr)"
   ]
  }
 ],
 "metadata": {
  "interpreter": {
   "hash": "bf896dc9a96a1f05858648d8e08d4485cbbfeec133930887cfa661edfd77fd61"
  },
  "kernelspec": {
   "display_name": "Python 3.7.4 64-bit ('venv': venv)",
   "language": "python",
   "name": "python3"
  },
  "language_info": {
   "codemirror_mode": {
    "name": "ipython",
    "version": 3
   },
   "file_extension": ".py",
   "mimetype": "text/x-python",
   "name": "python",
   "nbconvert_exporter": "python",
   "pygments_lexer": "ipython3",
   "version": "3.7.4"
  },
  "orig_nbformat": 4
 },
 "nbformat": 4,
 "nbformat_minor": 2
}
