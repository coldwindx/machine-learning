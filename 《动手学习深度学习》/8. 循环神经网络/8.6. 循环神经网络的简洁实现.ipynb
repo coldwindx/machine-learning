{
 "cells": [
  {
   "cell_type": "code",
   "execution_count": 1,
   "metadata": {},
   "outputs": [],
   "source": [
    "import torch\n",
    "from torch.nn import functional as F\n",
    "import sys\n",
    "sys.path.append('..')\n",
    "import helper\n",
    "\n",
    "batch_size, num_steps = 32, 35\n",
    "train_iter, vocab = helper.Loader.load_data_time_machine(batch_size, num_steps)"
   ]
  },
  {
   "cell_type": "code",
   "execution_count": 2,
   "metadata": {},
   "outputs": [
    {
     "data": {
      "text/plain": [
       "torch.Size([1, 32, 256])"
      ]
     },
     "execution_count": 2,
     "metadata": {},
     "output_type": "execute_result"
    }
   ],
   "source": [
    "num_hiddens = 256\n",
    "rnn_layer = torch.nn.RNN(len(vocab), num_hiddens)\n",
    "state = torch.zeros((1, batch_size, num_hiddens))\n",
    "state.shape"
   ]
  },
  {
   "cell_type": "code",
   "execution_count": 3,
   "metadata": {},
   "outputs": [
    {
     "data": {
      "text/plain": [
       "(torch.Size([35, 32, 256]), torch.Size([1, 32, 256]))"
      ]
     },
     "execution_count": 3,
     "metadata": {},
     "output_type": "execute_result"
    }
   ],
   "source": [
    "X = torch.rand(size=(num_steps, batch_size, len(vocab)))\n",
    "Y, state_new = rnn_layer(X,state)\n",
    "Y.shape, state_new.shape"
   ]
  },
  {
   "cell_type": "code",
   "execution_count": 4,
   "metadata": {},
   "outputs": [],
   "source": [
    "class RNNModel(torch.nn.Module):\n",
    "    def __init__(self, rnn_layer, vocab_size, **kwargs):\n",
    "        super(RNNModel, self).__init__(**kwargs)\n",
    "        self.rnn = rnn_layer\n",
    "        self.vocab_size = vocab_size\n",
    "        self.num_hiddens = rnn_layer.hidden_size\n",
    "        if not self.rnn.bidirectional:\n",
    "            self.num_directions = 1\n",
    "            self.liner = torch.nn.Linear(num_hiddens, vocab_size)\n",
    "        else:\n",
    "            self.num_directions = 2\n",
    "            self.liner = torch.nn.Linear(num_hiddens * 2, vocab_size)\n",
    "    def forward(self, inputs, state):\n",
    "        X = F.one_hot(inputs.T.long(), self.vocab_size)\n",
    "        X = X.to(torch.float32)\n",
    "        Y, state = self.rnn(X, state)\n",
    "        output = self.liner(Y.reshape((-1, Y.shape[-1])))\n",
    "        return output, state\n",
    "    def begin_state(self, device, batch_size = 1):\n",
    "        if not isinstance(self.rnn, torch.nn.LSTM):\n",
    "            return torch.zeros((self.num_directions * self.rnn.num_layers, batch_size, self.num_hiddens), device=device)\n",
    "        else:\n",
    "            return (torch.zeros((\n",
    "                self.num_directions * self.rnn.num_layers,\n",
    "                batch_size, self.num_hiddens), device=device),\n",
    "                    torch.zeros((\n",
    "                        self.num_directions * self.rnn.num_layers,\n",
    "                        batch_size, self.num_hiddens), device=device))"
   ]
  },
  {
   "cell_type": "code",
   "execution_count": 5,
   "metadata": {},
   "outputs": [
    {
     "data": {
      "text/plain": [
       "'time travellerwwwwwwwwww'"
      ]
     },
     "execution_count": 5,
     "metadata": {},
     "output_type": "execute_result"
    }
   ],
   "source": [
    "device = helper.GPU.try_gpu()\n",
    "net = RNNModel(rnn_layer, vocab_size=len(vocab))\n",
    "net = net.to(device)\n",
    "helper.predict_ch8('time traveller', 10, net, vocab, device)"
   ]
  },
  {
   "cell_type": "code",
   "execution_count": 6,
   "metadata": {},
   "outputs": [
    {
     "name": "stdout",
     "output_type": "stream",
     "text": [
      "time traveller the the the the the the the the the the the the t\n",
      "time traveller the the the the the the the the the the the the t\n",
      "time traveller and he sion the the the the the the the the the t\n",
      "time traveller the the the the the the the the the the the the t\n",
      "time traveller and and there and the thene dimensions of space a\n",
      "time traveller the this the this this this thith sime the this t\n",
      "time traveller time thaveller timentisnolly it the rimentimns in\n",
      "time traveller thice dimensiont at one that we thatel the tion w\n",
      "time traveller the end an ansedle than at al ond an an in time t\n",
      "time traveller for athis to thay th se aimers of and stine time \n",
      "time traveller filentifn bs fot in the time traveller three dime\n",
      "time traveller but now you sail filby bo ascilbyestou shace hove\n",
      "time traveller ffre there whing this thet thise allred the time \n",
      "time traveller this is thay il and the treel ass ofot s allint o\n",
      "time traveller ould and anot stid filbyoc the of the sthes ofist\n",
      "time traveller thrdeid t on the bugre wbong the time dimensions \n",
      "time travellerit s against reas no high urat so has fige byen it\n",
      "time traveller thin is allass the aling no ngablitk thisghite th\n",
      "time travellerit tou the thongt mot it to mad gown tide s ancall\n",
      "time traveller but nime so the that theef as menthe bod has ally\n",
      "time traveller the simethere id a dimel bure ard and mo an the s\n",
      "time travellerit soughind wishey urof the tratle thitwlimat saim\n",
      "time traveller held in his that spaci he hes anous this iagthis \n",
      "time traveller but now you begin to santhe roves betwerterthat i\n",
      "time traveller three di h sparaid a for tha dimensions but anve \n",
      "time traveller arter this dinendiththand ansthe ginstesalon boun\n",
      "time traveller proceeded anymove be about in timethre is the ged\n",
      "time traveller but now you begin to seethe object on mo is mimus\n",
      "time travellered the medichesparmeante to the lbse thming any th\n",
      "time traveller after the pauter toce thing tere thilenstone nigh\n",
      "time travelleryamt anghas ix the psonlwogd to p meat freedinit f\n",
      "time travellerit s against reason said the time travellerit s ag\n",
      "time traveller proceeded anyreal bodismoling abscanthe fired ini\n",
      "time traveller ffle theng s realexittrection of the farmew sea o\n",
      "time traveller proceeded any hat be soan a spain you mast moves \n",
      "time travellerit would be remarkabdexinat sespeccouts ic antareo\n",
      "time traveller ffor ans this neas incadon treet sicelallint sure\n",
      "time traveller after the pauserequired for dieg meythis exply we\n",
      "time traveller for io kaicemmea suro ex of ou whick ou been at b\n",
      "time traveller but now you begin to seethe objeg the merisi stim\n",
      "time traveller but now you begin to asmoptoulw adirwasdor the pr\n",
      "time travelleryou can show black is ancans timely this bagthed t\n",
      "time traveller arthave and as exthe mat bedi tyou the treed and \n",
      "time traveller held in his hand was a glitteringmetallin this ni\n",
      "time travellerit s against reasof this that space as our mathema\n",
      "time travellerit would be remarkably convenient for the wirtorke\n",
      "time travellerit would be remarkably convenien stien saimothree \n",
      "time traveller for so ofattil the firi ef respraine dimensions a\n",
      "time travellerit would be remarkably convenient to speak of himw\n",
      "time traveller proceeded anyre lland we the bat lexelt and the k\n",
      "困惑度 1.3, 256674.3 词元/秒 cuda:0\n",
      "time traveller proceeded anyre lland we the bat lexelt and the k\n",
      "travellerit would be remarkably convenient for the histor a\n"
     ]
    },
    {
     "data": {
      "image/png": "[encoded data removed]",
      "text/plain": [
       "<Figure size 252x180 with 1 Axes>"
      ]
     },
     "metadata": {
      "needs_background": "light"
     },
     "output_type": "display_data"
    }
   ],
   "source": [
    "num_epochs, lr = 500, 1\n",
    "helper.train_ch8(net, train_iter, vocab, lr, num_epochs, device)"
   ]
  }
 ],
 "metadata": {
  "kernelspec": {
   "display_name": "Python 3.7.4 ('venv': venv)",
   "language": "python",
   "name": "python3"
  },
  "language_info": {
   "codemirror_mode": {
    "name": "ipython",
    "version": 3
   },
   "file_extension": ".py",
   "mimetype": "text/x-python",
   "name": "python",
   "nbconvert_exporter": "python",
   "pygments_lexer": "ipython3",
   "version": "3.7.4"
  },
  "orig_nbformat": 4,
  "vscode": {
   "interpreter": {
    "hash": "5285dd86b1a1b9eefb8e6b22eadc9e8c9cfa7142ff11ff14f45d2bf734aec44f"
   }
  }
 },
 "nbformat": 4,
 "nbformat_minor": 2
}
