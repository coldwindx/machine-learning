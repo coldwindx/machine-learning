{
 "cells": [
  {
   "cell_type": "code",
   "execution_count": 2,
   "metadata": {},
   "outputs": [],
   "source": [
    "\n",
    "import torch\n",
    "import torch.nn as nn\n",
    "\n",
    "# net = nn.Sequential(\n",
    "#     # 这里，我们使用一个11*11的更大窗口来捕捉对象。\n",
    "#     # 同时，步幅为4，以减少输出的高度和宽度。\n",
    "#     # 另外，输出通道的数目远大于LeNet\n",
    "#     nn.Conv2d(1, 96, kernel_size=11, stride=4, padding=1), nn.ReLU(),\n",
    "#     nn.MaxPool2d(kernel_size=3, stride=2),\n",
    "#     # 减小卷积窗口，使用填充为2来使得输入与输出的高和宽一致，且增大输出通道数\n",
    "#     nn.Conv2d(96, 256, kernel_size=5, padding=2), nn.ReLU(),\n",
    "#     nn.MaxPool2d(kernel_size=3, stride=2),\n",
    "#     # 使用三个连续的卷积层和较小的卷积窗口。\n",
    "#     # 除了最后的卷积层，输出通道的数量进一步增加。\n",
    "#     # 在前两个卷积层之后，汇聚层不用于减少输入的高度和宽度\n",
    "#     nn.Conv2d(256, 384, kernel_size=3, padding=1), nn.ReLU(),\n",
    "#     nn.Conv2d(384, 384, kernel_size=3, padding=1), nn.ReLU(),\n",
    "#     nn.Conv2d(384, 256, kernel_size=3, padding=1), nn.ReLU(),\n",
    "#     nn.MaxPool2d(kernel_size=3, stride=2),\n",
    "#     nn.Flatten(),\n",
    "#     # 这里，全连接层的输出数量是LeNet中的好几倍。使用dropout层来减轻过拟合\n",
    "#     nn.Linear(6400, 4096), nn.ReLU(),\n",
    "#     nn.Dropout(p=0.5),\n",
    "#     nn.Linear(4096, 4096), nn.ReLU(),\n",
    "#     nn.Dropout(p=0.5),\n",
    "#     # 最后是输出层。由于这里使用Fashion-MNIST，所以用类别数为10，而非论文中的1000\n",
    "#     nn.Linear(4096, 10))\n",
    "\n",
    "class AlexNet(torch.nn.Module):\n",
    "    def __init__(self):\n",
    "        super().__init__()\n",
    "        self.c1 = torch.nn.Conv2d(1, 96, kernel_size=11, stride=4)\n",
    "        self.p1 = torch.nn.MaxPool2d(kernel_size=3, stride=2)\n",
    "        self.c2 = torch.nn.Conv2d(96, 256, kernel_size=5, padding=2)\n",
    "        self.p2 = torch.nn.MaxPool2d(kernel_size=3, stride=2)\n",
    "        self.c3 = torch.nn.Conv2d(256, 384, kernel_size=3, padding=1)\n",
    "        self.c4 = torch.nn.Conv2d(384, 384, kernel_size=3, padding=1)\n",
    "        self.c5 = torch.nn.Conv2d(384, 256, kernel_size=3, padding=1)\n",
    "        self.p3 = torch.nn.MaxPool2d(kernel_size=3, stride=2)\n",
    "        self.f = torch.nn.Flatten()\n",
    "        self.l1 = torch.nn.Linear(6400, 4096)\n",
    "        self.d1 = torch.nn.Dropout(p=0.5)\n",
    "        self.l2 = torch.nn.Linear(4096, 4096)\n",
    "        self.d2 = torch.nn.Dropout(p=0.5)\n",
    "        self.l3 = torch.nn.Linear(4096, 10)\n",
    "    def forward(self, x):\n",
    "        x = torch.relu(self.c1(x))\n",
    "        x = self.p1(x)\n",
    "        x = torch.relu(self.c2(x))\n",
    "        x = self.p2(x)\n",
    "        x = torch.relu(self.c3(x))\n",
    "        x = torch.relu(self.c4(x))\n",
    "        x = torch.relu(self.c5(x))\n",
    "        x = self.p3(x)\n",
    "        x = self.f(x)\n",
    "        x = torch.relu(self.l1(x))\n",
    "        x = self.d1(x)\n",
    "        x = torch.relu(self.l2(x))\n",
    "        x = self.d2(x)\n",
    "        x = self.l3(x)\n",
    "        return x\n"
   ]
  },
  {
   "cell_type": "code",
   "execution_count": 3,
   "metadata": {},
   "outputs": [
    {
     "name": "stdout",
     "output_type": "stream",
     "text": [
      "loss 2.306, train acc 0.086, test acc 0.100\n",
      "300.4 examples/sec on cuda:0\n"
     ]
    }
   ],
   "source": [
    "import sys\n",
    "sys.path.append('..')\n",
    "import helper\n",
    "\n",
    "net = AlexNet()\n",
    "batch_size = 128\n",
    "train_iter, test_iter = helper.load_data_fashion_mnist(batch_size, path='../data/', resize=224)\n",
    "lr, epochs = 0.01, 10\n",
    "helper.train_ch6(net, train_iter, test_iter, epochs, lr, helper.GPU.try_gpu())"
   ]
  }
 ],
 "metadata": {
  "interpreter": {
   "hash": "bf896dc9a96a1f05858648d8e08d4485cbbfeec133930887cfa661edfd77fd61"
  },
  "kernelspec": {
   "display_name": "Python 3.7.4 64-bit ('venv': venv)",
   "language": "python",
   "name": "python3"
  },
  "language_info": {
   "codemirror_mode": {
    "name": "ipython",
    "version": 3
   },
   "file_extension": ".py",
   "mimetype": "text/x-python",
   "name": "python",
   "nbconvert_exporter": "python",
   "pygments_lexer": "ipython3",
   "version": "3.7.4"
  },
  "orig_nbformat": 4
 },
 "nbformat": 4,
 "nbformat_minor": 2
}
