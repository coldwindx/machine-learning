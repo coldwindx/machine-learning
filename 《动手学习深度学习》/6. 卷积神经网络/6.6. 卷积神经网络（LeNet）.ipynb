{
 "cells": [
  {
   "cell_type": "markdown",
   "metadata": {},
   "source": [
    "# 6.6. 卷积神经网络（LeNet）\n",
    "## 6.6.1. LeNet"
   ]
  },
  {
   "cell_type": "code",
   "execution_count": 7,
   "metadata": {},
   "outputs": [],
   "source": [
    "import torch\n",
    "import torch.nn\n",
    "\n",
    "net = torch.nn.Sequential(\n",
    "    torch.nn.Conv2d(1, 6, kernel_size=5, padding=2),\n",
    "    torch.nn.Sigmoid(),\n",
    "    torch.nn.AvgPool2d(kernel_size=2, stride=2),\n",
    "    torch.nn.Conv2d(6, 16, kernel_size=5),\n",
    "    torch.nn.Sigmoid(),\n",
    "    torch.nn.AvgPool2d(kernel_size=2, stride=2),\n",
    "    torch.nn.Flatten(),\n",
    "    torch.nn.Linear(16 * 5 * 5, 120),\n",
    "    torch.nn.Sigmoid(),\n",
    "    torch.nn.Linear(120, 84),\n",
    "    torch.nn.Sigmoid(),\n",
    "    torch.nn.Linear(84, 10)\n",
    ")"
   ]
  },
  {
   "cell_type": "code",
   "execution_count": 8,
   "metadata": {},
   "outputs": [
    {
     "name": "stdout",
     "output_type": "stream",
     "text": [
      "Conv2d output shape:\t torch.Size([1, 6, 28, 28])\n",
      "Sigmoid output shape:\t torch.Size([1, 6, 28, 28])\n",
      "AvgPool2d output shape:\t torch.Size([1, 6, 14, 14])\n",
      "Conv2d output shape:\t torch.Size([1, 16, 10, 10])\n",
      "Sigmoid output shape:\t torch.Size([1, 16, 10, 10])\n",
      "AvgPool2d output shape:\t torch.Size([1, 16, 5, 5])\n",
      "Flatten output shape:\t torch.Size([1, 400])\n",
      "Linear output shape:\t torch.Size([1, 120])\n",
      "Sigmoid output shape:\t torch.Size([1, 120])\n",
      "Linear output shape:\t torch.Size([1, 84])\n",
      "Sigmoid output shape:\t torch.Size([1, 84])\n",
      "Linear output shape:\t torch.Size([1, 10])\n"
     ]
    }
   ],
   "source": [
    "X = torch.rand((1, 1, 28, 28), dtype=torch.float32)\n",
    "for layer in net:\n",
    "    X = layer(X)\n",
    "    print(layer.__class__.__name__, \"output shape:\\t\", X.shape)"
   ]
  },
  {
   "cell_type": "markdown",
   "metadata": {},
   "source": [
    "## 6.6.2. 模型训练"
   ]
  },
  {
   "cell_type": "code",
   "execution_count": 9,
   "metadata": {},
   "outputs": [],
   "source": [
    "import sys\n",
    "sys.path.append('..')\n",
    "\n",
    "import helper\n",
    "\n",
    "batch_size = 256\n",
    "train_iter, test_iter = helper.load_data_fashion_mnist(batch_size, path = \"../data/\")"
   ]
  },
  {
   "cell_type": "markdown",
   "metadata": {},
   "source": [
    "由于完整的数据集位于内存中，因此在模型使用GPU计算数据集之前，我们需要将其复制到显存中。"
   ]
  },
  {
   "cell_type": "code",
   "execution_count": 10,
   "metadata": {},
   "outputs": [],
   "source": [
    "def evaluate_accuracy_gpu(net, data_iter, device = None):\n",
    "    '''使用GPU计算操作模型在数据集上的精度'''\n",
    "    if isinstance(net, torch.nn.Module):\n",
    "        net.eval() # 切换评估模式\n",
    "        if not device:\n",
    "            device = next(iter(net.parameters())).device\n",
    "    metric = helper.Accumulator(2)\n",
    "    with torch.no_grad():\n",
    "        for X, y in data_iter:\n",
    "            if isinstance(X, list):\n",
    "                X = [x.to(device) for x in X]\n",
    "            else:\n",
    "                X = X.to(device)\n",
    "            y = y.to(device)\n",
    "            metric.add(helper.accuracy(net(X), y), y.numel())\n",
    "    return metric[0] / metric[1]"
   ]
  },
  {
   "cell_type": "code",
   "execution_count": 11,
   "metadata": {},
   "outputs": [],
   "source": [
    "import torch.optim\n",
    "\n",
    "def train_ch6(net, train_iter, test_iter, num_epochs, lr, device):\n",
    "    '''用GPU训练模型'''\n",
    "    def init_weight(m):\n",
    "        if type(m) == torch.nn.Linear or type(m) == torch.nn.Conv2d:\n",
    "            torch.nn.init.xavier_uniform_(m.weight)\n",
    "    net.apply(init_weight)\n",
    "    print('train on ', device)\n",
    "    net.to(device)\n",
    "    optimizer = torch.optim.SGD(net.parameters(), lr)\n",
    "    loss = torch.nn.CrossEntropyLoss()\n",
    "    animator = helper.Animator(xlabel='epochs', xlim = [1, num_epochs],\n",
    "                                legend=['train_loss', 'train_acc', 'test_acc'])\n",
    "    timer, num_batchs = helper.Timer(), len(train_iter)\n",
    "    for epoch in range(num_epochs):\n",
    "        metric = helper.Accumulator(3)\n",
    "        net.train()\n",
    "        for i, (X, y) in enumerate(train_iter):\n",
    "            timer.start()\n",
    "            optimizer.zero_grad()\n",
    "            X, y = X.to(device), y.to(device)\n",
    "            y_hat = net(X)\n",
    "            l = loss(y_hat, y)\n",
    "            l.backward()\n",
    "            optimizer.step()\n",
    "            with torch.no_grad():       # 不更新梯度\n",
    "                metric.add(l * X.shape[0], helper.accuracy(y_hat, y), X.shape[0])\n",
    "            timer.stop()\n",
    "            train_l = metric[0] / metric[2]\n",
    "            train_acc = metric[1] / metric[2]\n",
    "            if (i + 1) % (num_batchs // 5) == 0 or i == num_batchs - 1:\n",
    "                animator.add(epoch + (i + 1) / num_batchs,\n",
    "                                            (train_l, train_acc, None))\n",
    "            test_acc = evaluate_accuracy_gpu(net, test_iter)\n",
    "            animator.add(epoch + 1, (None, None, test_acc))\n",
    "        print(f'loss {train_l:.3f}, train acc {train_acc:.3f}, 'f'test acc {test_acc:.3f}')\n",
    "        print(f'{metric[2] * num_epochs / timer.sum():.1f} examples/sec 'f'on {str(device)}')\n"
   ]
  },
  {
   "cell_type": "code",
   "execution_count": 12,
   "metadata": {},
   "outputs": [
    {
     "name": "stdout",
     "output_type": "stream",
     "text": [
      "loss 0.471, train acc 0.821, test acc 0.800\n",
      "9780.7 examples/sec on cuda:0\n"
     ]
    },
    {
     "data": {
      "image/png": "[encoded data removed]",
      "text/plain": [
       "<Figure size 252x180 with 1 Axes>"
      ]
     },
     "metadata": {
      "needs_background": "light"
     },
     "output_type": "display_data"
    }
   ],
   "source": [
    "lr, num_epochs = 0.9, 10\n",
    "# 79m 5.9s(CPU更慢)\n",
    "train_ch6(net, train_iter, test_iter, num_epochs, lr, helper.GPU.try_gpu())"
   ]
  }
 ],
 "metadata": {
  "interpreter": {
   "hash": "bf896dc9a96a1f05858648d8e08d4485cbbfeec133930887cfa661edfd77fd61"
  },
  "kernelspec": {
   "display_name": "Python 3.7.4 64-bit ('venv': venv)",
   "language": "python",
   "name": "python3"
  },
  "language_info": {
   "codemirror_mode": {
    "name": "ipython",
    "version": 3
   },
   "file_extension": ".py",
   "mimetype": "text/x-python",
   "name": "python",
   "nbconvert_exporter": "python",
   "pygments_lexer": "ipython3",
   "version": "3.7.4"
  },
  "orig_nbformat": 4
 },
 "nbformat": 4,
 "nbformat_minor": 2
}
